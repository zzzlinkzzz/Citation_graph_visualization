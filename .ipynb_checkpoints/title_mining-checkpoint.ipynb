{
 "cells": [
  {
   "cell_type": "code",
   "execution_count": 17,
   "id": "c5c5a84f",
   "metadata": {},
   "outputs": [],
   "source": [
    "import json\n",
    "import pandas as pd\n",
    "from utils import load_option,dump_option\n",
    "from sklearn.feature_extraction.text import TfidfVectorizer\n",
    "import re"
   ]
  },
  {
   "cell_type": "code",
   "execution_count": 36,
   "id": "14b15d3c",
   "metadata": {},
   "outputs": [
    {
     "name": "stdout",
     "output_type": "stream",
     "text": [
      "!\"#$%&()*+-./:;<=>?@[\\]^_`{|}~\n",
      "\n"
     ]
    },
    {
     "data": {
      "text/plain": [
       "['cleaneval: a competition for cleaning web pages.',\n",
       " 'leveraging legacy code to deploy desktop applications on the web',\n",
       " 'face detection, recognition in an image sequence using eigenedginess.',\n",
       " 'color displays for the color blind.',\n",
       " 'a corpus-based synthesizer.',\n",
       " 'keeyword search in databases.',\n",
       " 'piqasso: pisa question answering system',\n",
       " 'mobilizing the semantic web with daml-enabled web services',\n",
       " 'search lessons learned from crossword puzzles',\n",
       " 'improving the forward chaining algorithm for conceptual graphs rules',\n",
       " 'adaptive localization in a dynamic wifi environment through multi-view learning',\n",
       " 'learning to merge word senses',\n",
       " 'fuzzy clustering of the self-organizing map: some applications on financial time series',\n",
       " 'experiments with linear feature extraction in speech recognition.',\n",
       " 'mapping requirements to software architecture by feature-orientation.',\n",
       " 'modeling, simulation, and optimization of supply chains: a continuous approach',\n",
       " 'maximized modality or constrained consistency',\n",
       " 'self-tuning technology in microsoft sql server.',\n",
       " 'efficient mining of maximal sequential patterns using multiple samples.',\n",
       " 'machine learning for adaptive image interpretation']"
      ]
     },
     "execution_count": 36,
     "metadata": {},
     "output_type": "execute_result"
    }
   ],
   "source": [
    "titles = load_option('titles')\n",
    "stopwords = load_option('stopwords')\n",
    "symbols = load_option('symbols')\n",
    "print(symbols)\n",
    "titles[:20]"
   ]
  },
  {
   "cell_type": "code",
   "execution_count": 37,
   "id": "2a853856",
   "metadata": {},
   "outputs": [
    {
     "data": {
      "text/plain": [
       "['cleaneval: a competition for cleaning web pages.',\n",
       " 'leveraging legacy code to deploy desktop applications on the web',\n",
       " 'face detection, recognition in an image sequence using eigenedginess.',\n",
       " 'color displays for the color blind.',\n",
       " 'a corpus-based synthesizer.',\n",
       " 'keeyword search in databases.',\n",
       " 'piqasso: pisa question answering system',\n",
       " 'mobilizing the semantic web with daml-enabled web services',\n",
       " 'search lessons learned from crossword puzzles',\n",
       " 'improving the forward chaining algorithm for conceptual graphs rules',\n",
       " 'adaptive localization in a dynamic wifi environment through multi-view learning',\n",
       " 'learning to merge word senses',\n",
       " 'fuzzy clustering of the self-organizing map: some applications on financial time series',\n",
       " 'experiments with linear feature extraction in speech recognition.',\n",
       " 'mapping requirements to software architecture by feature-orientation.',\n",
       " 'modeling, simulation, and optimization of supply chains: a continuous approach',\n",
       " 'maximized modality or constrained consistency',\n",
       " 'self-tuning technology in microsoft sql server.',\n",
       " 'efficient mining of maximal sequential patterns using multiple samples.',\n",
       " 'machine learning for adaptive image interpretation']"
      ]
     },
     "execution_count": 37,
     "metadata": {},
     "output_type": "execute_result"
    }
   ],
   "source": [
    "def remove_symbols(text):\n",
    "    return re.sub(r'[^\\w]',' ',text)\n",
    "\n",
    "map(remove_symbols,titles)\n",
    "\n",
    "titles[:20]"
   ]
  },
  {
   "cell_type": "code",
   "execution_count": 38,
   "id": "d3550781",
   "metadata": {},
   "outputs": [
    {
     "data": {
      "text/plain": [
       "'cleanevalacompetitionforcleaningwebpages'"
      ]
     },
     "execution_count": 38,
     "metadata": {},
     "output_type": "execute_result"
    }
   ],
   "source": [
    "remove_symbols(titles[0])"
   ]
  }
 ],
 "metadata": {
  "kernelspec": {
   "display_name": "Python 3 (ipykernel)",
   "language": "python",
   "name": "python3"
  },
  "language_info": {
   "codemirror_mode": {
    "name": "ipython",
    "version": 3
   },
   "file_extension": ".py",
   "mimetype": "text/x-python",
   "name": "python",
   "nbconvert_exporter": "python",
   "pygments_lexer": "ipython3",
   "version": "3.9.7"
  }
 },
 "nbformat": 4,
 "nbformat_minor": 5
}
