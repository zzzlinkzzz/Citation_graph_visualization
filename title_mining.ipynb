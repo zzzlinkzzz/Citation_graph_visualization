{
 "cells": [
  {
   "cell_type": "code",
   "execution_count": 73,
   "id": "ff77f2c4",
   "metadata": {},
   "outputs": [],
   "source": [
    "import json\n",
    "import pandas as pd\n",
    "from utils import load_option,dump_option\n",
    "from sklearn.feature_extraction.text import TfidfVectorizer\n",
    "import re"
   ]
  },
  {
   "cell_type": "code",
   "execution_count": 101,
   "id": "c0880aa0",
   "metadata": {},
   "outputs": [
    {
     "name": "stdout",
     "output_type": "stream",
     "text": [
      "!\"#$%&()*+-./:;<=>?@[\\]^_`{|}~\n",
      "\n"
     ]
    },
    {
     "data": {
      "text/plain": [
       "['cleaneval: a competition for cleaning web pages.',\n",
       " 'leveraging legacy code to deploy desktop applications on the web',\n",
       " 'face detection, recognition in an image sequence using eigenedginess.',\n",
       " 'color displays for the color blind.',\n",
       " 'a corpus-based synthesizer.',\n",
       " 'keeyword search in databases.',\n",
       " 'piqasso: pisa question answering system',\n",
       " 'mobilizing the semantic web with daml-enabled web services',\n",
       " 'search lessons learned from crossword puzzles',\n",
       " 'improving the forward chaining algorithm for conceptual graphs rules',\n",
       " 'adaptive localization in a dynamic wifi environment through multi-view learning',\n",
       " 'learning to merge word senses',\n",
       " 'fuzzy clustering of the self-organizing map: some applications on financial time series',\n",
       " 'experiments with linear feature extraction in speech recognition.',\n",
       " 'mapping requirements to software architecture by feature-orientation.',\n",
       " 'modeling, simulation, and optimization of supply chains: a continuous approach',\n",
       " 'maximized modality or constrained consistency',\n",
       " 'self-tuning technology in microsoft sql server.',\n",
       " 'efficient mining of maximal sequential patterns using multiple samples.',\n",
       " 'machine learning for adaptive image interpretation']"
      ]
     },
     "execution_count": 101,
     "metadata": {},
     "output_type": "execute_result"
    }
   ],
   "source": [
    "titles = load_option('titles')\n",
    "stopwords = load_option('stopwords')\n",
    "symbols = load_option('symbols')\n",
    "print(symbols)\n",
    "titles[:20]"
   ]
  },
  {
   "cell_type": "code",
   "execution_count": 75,
   "id": "019a3fd5",
   "metadata": {},
   "outputs": [],
   "source": [
    "def remove_symbols(text):\n",
    "    text = re.sub(r'[^\\w]',' ',text)\n",
    "    return re.sub(' +',' ',text).strip()"
   ]
  },
  {
   "cell_type": "code",
   "execution_count": 102,
   "id": "c1884734",
   "metadata": {},
   "outputs": [],
   "source": [
    "titles = list(map(remove_symbols,titles))"
   ]
  },
  {
   "cell_type": "code",
   "execution_count": 103,
   "id": "e979b267",
   "metadata": {},
   "outputs": [],
   "source": [
    "l = ['machine learning',\n",
    "'deep learning',\n",
    "'data mining',\n",
    "'reinforcement learning']\n",
    "l = [tuple(t.split(' ')) for t in l]\n",
    "dump_option(l,'multiwords')\n",
    "multiwords = load_option('multiwords')"
   ]
  },
  {
   "cell_type": "code",
   "execution_count": 104,
   "id": "0035e855",
   "metadata": {},
   "outputs": [
    {
     "name": "stderr",
     "output_type": "stream",
     "text": [
      "100%|███████████████████████████████████████| 1000/1000 [00:33<00:00, 30.22it/s]\n"
     ]
    }
   ],
   "source": [
    "from autocorrect import Speller\n",
    "from tqdm import tqdm\n",
    "spell = Speller(lang='en')\n",
    "\n",
    "\n",
    "filted_titles = []\n",
    "for title in tqdm(titles[:1000]):\n",
    "    text = ' '.join([spell(word) for word in title.split(' ') if word not in stopwords])\n",
    "    filted_titles.append(text)"
   ]
  },
  {
   "cell_type": "code",
   "execution_count": 105,
   "id": "2645c326",
   "metadata": {},
   "outputs": [],
   "source": [
    "from nltk.tokenize import MWETokenizer\n",
    "tokenizer = MWETokenizer(multiwords,separator='_')\n",
    "titles = [' '.join(tokenizer.tokenize(title.split())) for title in titles]"
   ]
  },
  {
   "cell_type": "code",
   "execution_count": 139,
   "id": "dcf5fa00",
   "metadata": {},
   "outputs": [],
   "source": [
    "vectorizer = TfidfVectorizer()\n",
    "vector = vectorizer.fit_transform(titles[:1000])\n",
    "feature_names = vectorizer.get_feature_names()\n",
    "dense = vector.todense()\n",
    "denselist = dense.tolist()\n"
   ]
  },
  {
   "cell_type": "code",
   "execution_count": 161,
   "id": "4648dd8a",
   "metadata": {},
   "outputs": [],
   "source": [
    "score = vector.reshape(-1,1000).sum(axis = 1)\n",
    "df = pd.DataFrame(np.array(score),index = feature_names)"
   ]
  },
  {
   "cell_type": "code",
   "execution_count": 177,
   "id": "ad2132dd",
   "metadata": {},
   "outputs": [],
   "source": []
  },
  {
   "cell_type": "code",
   "execution_count": 193,
   "id": "3b592a40",
   "metadata": {},
   "outputs": [
    {
     "name": "stdout",
     "output_type": "stream",
     "text": [
      "['plausible', 'repairs', 'inconsistent', 'requirements']\n",
      "[0.522, 0.522, 0.493, 0.431]\n"
     ]
    },
    {
     "data": {
      "text/plain": [
       "<BarContainer object of 4 artists>"
      ]
     },
     "execution_count": 193,
     "metadata": {},
     "output_type": "execute_result"
    },
    {
     "data": {
      "image/png": "[encoded data removed]",
      "text/plain": [
       "<Figure size 432x288 with 1 Axes>"
      ]
     },
     "metadata": {
      "needs_background": "light"
     },
     "output_type": "display_data"
    }
   ],
   "source": [
    "i = 20\n",
    "text = tokenizer.tokenize(filted_titles[i].split())\n",
    "indies = [feature_names.index(x) for x in text]\n",
    "print(text)\n",
    "score = [round(denselist[i][index],3) for index in indies]\n",
    "print(score)\n",
    "import matplotlib.pyplot as plt\n",
    "plt.barh(text[::-1],score[::-1])"
   ]
  }
 ],
 "metadata": {
  "kernelspec": {
   "display_name": "Python 3 (ipykernel)",
   "language": "python",
   "name": "python3"
  },
  "language_info": {
   "codemirror_mode": {
    "name": "ipython",
    "version": 3
   },
   "file_extension": ".py",
   "mimetype": "text/x-python",
   "name": "python",
   "nbconvert_exporter": "python",
   "pygments_lexer": "ipython3",
   "version": "3.9.7"
  }
 },
 "nbformat": 4,
 "nbformat_minor": 5
}
